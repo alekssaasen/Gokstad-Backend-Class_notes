{
 "cells": [
  {
   "metadata": {},
   "cell_type": "code",
   "outputs": [],
   "execution_count": null,
   "source": [
    "from IPython.display import display, Image\n",
    "\n",
    "try:\n",
    "    with open('meme.webp', 'rb') as f:\n",
    "        data = f.read()\n",
    "    print(f\"Read {len(data)} {type(data)}\")\n",
    "    display(Image(data))\n",
    "except FileNotFoundError:\n",
    "    print(\"File not found\")\n"
   ],
   "id": "9943fce863000e00"
  },
  {
   "metadata": {},
   "cell_type": "markdown",
   "source": "",
   "id": "f1b5ddd685b16c9f"
  }
 ],
 "metadata": {
  "kernelspec": {
   "name": "python3",
   "language": "python",
   "display_name": "Python 3 (ipykernel)"
  }
 },
 "nbformat": 4,
 "nbformat_minor": 5
}
